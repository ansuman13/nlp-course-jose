{
 "cells": [
  {
   "cell_type": "code",
   "execution_count": 2,
   "metadata": {},
   "outputs": [],
   "source": [
    "import spacy"
   ]
  },
  {
   "cell_type": "code",
   "execution_count": 3,
   "metadata": {},
   "outputs": [],
   "source": [
    "nlp = spacy.load('en_core_web_lg')"
   ]
  },
  {
   "cell_type": "code",
   "execution_count": 21,
   "metadata": {},
   "outputs": [],
   "source": [
    "doc = nlp(u'queen summons king, king his mistress')"
   ]
  },
  {
   "cell_type": "code",
   "execution_count": 22,
   "metadata": {},
   "outputs": [
    {
     "data": {
      "text/plain": [
       "queen summons king, king his mistress"
      ]
     },
     "execution_count": 22,
     "metadata": {},
     "output_type": "execute_result"
    }
   ],
   "source": [
    "doc"
   ]
  },
  {
   "cell_type": "code",
   "execution_count": 24,
   "metadata": {
    "scrolled": true
   },
   "outputs": [
    {
     "name": "stdout",
     "output_type": "stream",
     "text": [
      "queen queen 1.0\n",
      "queen summons 0.19559264\n",
      "queen king 0.72526103\n",
      "queen , 0.15341039\n",
      "queen king 0.72526103\n",
      "queen his 0.21124269\n",
      "queen mistress 0.45523414\n",
      "summons queen 0.19559264\n",
      "summons summons 1.0\n",
      "summons king 0.2840616\n",
      "summons , 0.074090995\n",
      "summons king 0.2840616\n",
      "summons his 0.3046698\n",
      "summons mistress 0.23447616\n",
      "king queen 0.72526103\n",
      "king summons 0.2840616\n",
      "king king 1.0\n",
      "king , 0.18287991\n",
      "king king 1.0\n",
      "king his 0.3662548\n",
      "king mistress 0.32506955\n",
      ", queen 0.15341039\n",
      ", summons 0.074090995\n",
      ", king 0.18287991\n",
      ", , 1.0\n",
      ", king 0.18287991\n",
      ", his 0.24719614\n",
      ", mistress 0.12654717\n",
      "king queen 0.72526103\n",
      "king summons 0.2840616\n",
      "king king 1.0\n",
      "king , 0.18287991\n",
      "king king 1.0\n",
      "king his 0.3662548\n",
      "king mistress 0.32506955\n",
      "his queen 0.21124269\n",
      "his summons 0.3046698\n",
      "his king 0.3662548\n",
      "his , 0.24719614\n",
      "his king 0.3662548\n",
      "his his 1.0\n",
      "his mistress 0.3323421\n",
      "mistress queen 0.45523414\n",
      "mistress summons 0.23447616\n",
      "mistress king 0.32506955\n",
      "mistress , 0.12654717\n",
      "mistress king 0.32506955\n",
      "mistress his 0.3323421\n",
      "mistress mistress 1.0\n"
     ]
    }
   ],
   "source": [
    "for token1 in doc:\n",
    "    for token2 in doc:\n",
    "#         if(token1.similarity(token2)>0.300 and token1.text!=token2.text):\n",
    "            print(token1.text,token2.text, token1.similarity(token2))"
   ]
  },
  {
   "cell_type": "code",
   "execution_count": 32,
   "metadata": {},
   "outputs": [],
   "source": [
    "from scipy import spatial\n",
    "\n",
    "cosine_similarity = lambda x, y: 1 - spatial.distance.cosine(x, y)\n",
    "\n",
    "king = nlp.vocab['king'].vector\n",
    "queen = nlp.vocab['queen'].vector\n",
    "woman = nlp.vocab['woman'].vector\n",
    "\n",
    "new_vector = king - queen + woman\n",
    "computed_similarity = []\n",
    "\n",
    "for word in nlp.vocab:\n",
    "    if word.has_vector:\n",
    "        if word.is_alpha:\n",
    "            if word.is_lower:\n",
    "                similarity = cosine_similarity(new_vector, word.vector)\n",
    "                computed_similarity.append((word,similarity))\n",
    "                "
   ]
  },
  {
   "cell_type": "code",
   "execution_count": null,
   "metadata": {},
   "outputs": [],
   "source": [
    "for w in computed_similarity:\n",
    "    print(w[0])"
   ]
  },
  {
   "cell_type": "markdown",
   "metadata": {},
   "source": [
    "comput"
   ]
  }
 ],
 "metadata": {
  "kernelspec": {
   "display_name": "Python 3",
   "language": "python",
   "name": "python3"
  },
  "language_info": {
   "codemirror_mode": {
    "name": "ipython",
    "version": 3
   },
   "file_extension": ".py",
   "mimetype": "text/x-python",
   "name": "python",
   "nbconvert_exporter": "python",
   "pygments_lexer": "ipython3",
   "version": "3.7.6"
  }
 },
 "nbformat": 4,
 "nbformat_minor": 4
}
