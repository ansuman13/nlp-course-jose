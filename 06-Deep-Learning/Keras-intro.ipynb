{
 "cells": [
  {
   "cell_type": "code",
   "execution_count": 2,
   "metadata": {},
   "outputs": [],
   "source": [
    "import numpy as np"
   ]
  },
  {
   "cell_type": "code",
   "execution_count": 4,
   "metadata": {},
   "outputs": [],
   "source": [
    "from sklearn.datasets import load_iris"
   ]
  },
  {
   "cell_type": "code",
   "execution_count": 6,
   "metadata": {},
   "outputs": [],
   "source": [
    "iris = load_iris()"
   ]
  },
  {
   "cell_type": "code",
   "execution_count": 8,
   "metadata": {},
   "outputs": [
    {
     "data": {
      "text/plain": [
       "sklearn.utils.Bunch"
      ]
     },
     "execution_count": 8,
     "metadata": {},
     "output_type": "execute_result"
    }
   ],
   "source": [
    "type(iris)"
   ]
  },
  {
   "cell_type": "code",
   "execution_count": 15,
   "metadata": {},
   "outputs": [],
   "source": [
    "X = iris.data"
   ]
  },
  {
   "cell_type": "code",
   "execution_count": 45,
   "metadata": {},
   "outputs": [
    {
     "name": "stdout",
     "output_type": "stream",
     "text": [
      "[0 0 0 0 0 0 0 0 0 0 0 0 0 0 0 0 0 0 0 0 0 0 0 0 0 0 0 0 0 0 0 0 0 0 0 0 0\n",
      " 0 0 0 0 0 0 0 0 0 0 0 0 0 1 1 1 1 1 1 1 1 1 1 1 1 1 1 1 1 1 1 1 1 1 1 1 1\n",
      " 1 1 1 1 1 1 1 1 1 1 1 1 1 1 1 1 1 1 1 1 1 1 1 1 1 1 2 2 2 2 2 2 2 2 2 2 2\n",
      " 2 2 2 2 2 2 2 2 2 2 2 2 2 2 2 2 2 2 2 2 2 2 2 2 2 2 2 2 2 2 2 2 2 2 2 2 2\n",
      " 2 2]\n"
     ]
    }
   ],
   "source": [
    "y = iris.target\n",
    "print(y)"
   ]
  },
  {
   "cell_type": "code",
   "execution_count": 42,
   "metadata": {},
   "outputs": [],
   "source": [
    "from keras.utils import to_categorical"
   ]
  },
  {
   "cell_type": "code",
   "execution_count": 46,
   "metadata": {},
   "outputs": [],
   "source": [
    "y = to_categorical(y)"
   ]
  },
  {
   "cell_type": "code",
   "execution_count": 47,
   "metadata": {},
   "outputs": [
    {
     "data": {
      "text/plain": [
       "(150, 3)"
      ]
     },
     "execution_count": 47,
     "metadata": {},
     "output_type": "execute_result"
    }
   ],
   "source": [
    "y.shape"
   ]
  },
  {
   "cell_type": "code",
   "execution_count": 48,
   "metadata": {},
   "outputs": [
    {
     "data": {
      "text/plain": [
       "array([[1., 0., 0.],\n",
       "       [1., 0., 0.],\n",
       "       [1., 0., 0.],\n",
       "       [1., 0., 0.],\n",
       "       [1., 0., 0.],\n",
       "       [1., 0., 0.],\n",
       "       [1., 0., 0.],\n",
       "       [1., 0., 0.],\n",
       "       [1., 0., 0.],\n",
       "       [1., 0., 0.],\n",
       "       [1., 0., 0.],\n",
       "       [1., 0., 0.],\n",
       "       [1., 0., 0.],\n",
       "       [1., 0., 0.],\n",
       "       [1., 0., 0.],\n",
       "       [1., 0., 0.],\n",
       "       [1., 0., 0.],\n",
       "       [1., 0., 0.],\n",
       "       [1., 0., 0.],\n",
       "       [1., 0., 0.],\n",
       "       [1., 0., 0.],\n",
       "       [1., 0., 0.],\n",
       "       [1., 0., 0.],\n",
       "       [1., 0., 0.],\n",
       "       [1., 0., 0.],\n",
       "       [1., 0., 0.],\n",
       "       [1., 0., 0.],\n",
       "       [1., 0., 0.],\n",
       "       [1., 0., 0.],\n",
       "       [1., 0., 0.],\n",
       "       [1., 0., 0.],\n",
       "       [1., 0., 0.],\n",
       "       [1., 0., 0.],\n",
       "       [1., 0., 0.],\n",
       "       [1., 0., 0.],\n",
       "       [1., 0., 0.],\n",
       "       [1., 0., 0.],\n",
       "       [1., 0., 0.],\n",
       "       [1., 0., 0.],\n",
       "       [1., 0., 0.],\n",
       "       [1., 0., 0.],\n",
       "       [1., 0., 0.],\n",
       "       [1., 0., 0.],\n",
       "       [1., 0., 0.],\n",
       "       [1., 0., 0.],\n",
       "       [1., 0., 0.],\n",
       "       [1., 0., 0.],\n",
       "       [1., 0., 0.],\n",
       "       [1., 0., 0.],\n",
       "       [1., 0., 0.],\n",
       "       [0., 1., 0.],\n",
       "       [0., 1., 0.],\n",
       "       [0., 1., 0.],\n",
       "       [0., 1., 0.],\n",
       "       [0., 1., 0.],\n",
       "       [0., 1., 0.],\n",
       "       [0., 1., 0.],\n",
       "       [0., 1., 0.],\n",
       "       [0., 1., 0.],\n",
       "       [0., 1., 0.],\n",
       "       [0., 1., 0.],\n",
       "       [0., 1., 0.],\n",
       "       [0., 1., 0.],\n",
       "       [0., 1., 0.],\n",
       "       [0., 1., 0.],\n",
       "       [0., 1., 0.],\n",
       "       [0., 1., 0.],\n",
       "       [0., 1., 0.],\n",
       "       [0., 1., 0.],\n",
       "       [0., 1., 0.],\n",
       "       [0., 1., 0.],\n",
       "       [0., 1., 0.],\n",
       "       [0., 1., 0.],\n",
       "       [0., 1., 0.],\n",
       "       [0., 1., 0.],\n",
       "       [0., 1., 0.],\n",
       "       [0., 1., 0.],\n",
       "       [0., 1., 0.],\n",
       "       [0., 1., 0.],\n",
       "       [0., 1., 0.],\n",
       "       [0., 1., 0.],\n",
       "       [0., 1., 0.],\n",
       "       [0., 1., 0.],\n",
       "       [0., 1., 0.],\n",
       "       [0., 1., 0.],\n",
       "       [0., 1., 0.],\n",
       "       [0., 1., 0.],\n",
       "       [0., 1., 0.],\n",
       "       [0., 1., 0.],\n",
       "       [0., 1., 0.],\n",
       "       [0., 1., 0.],\n",
       "       [0., 1., 0.],\n",
       "       [0., 1., 0.],\n",
       "       [0., 1., 0.],\n",
       "       [0., 1., 0.],\n",
       "       [0., 1., 0.],\n",
       "       [0., 1., 0.],\n",
       "       [0., 1., 0.],\n",
       "       [0., 1., 0.],\n",
       "       [0., 1., 0.],\n",
       "       [0., 0., 1.],\n",
       "       [0., 0., 1.],\n",
       "       [0., 0., 1.],\n",
       "       [0., 0., 1.],\n",
       "       [0., 0., 1.],\n",
       "       [0., 0., 1.],\n",
       "       [0., 0., 1.],\n",
       "       [0., 0., 1.],\n",
       "       [0., 0., 1.],\n",
       "       [0., 0., 1.],\n",
       "       [0., 0., 1.],\n",
       "       [0., 0., 1.],\n",
       "       [0., 0., 1.],\n",
       "       [0., 0., 1.],\n",
       "       [0., 0., 1.],\n",
       "       [0., 0., 1.],\n",
       "       [0., 0., 1.],\n",
       "       [0., 0., 1.],\n",
       "       [0., 0., 1.],\n",
       "       [0., 0., 1.],\n",
       "       [0., 0., 1.],\n",
       "       [0., 0., 1.],\n",
       "       [0., 0., 1.],\n",
       "       [0., 0., 1.],\n",
       "       [0., 0., 1.],\n",
       "       [0., 0., 1.],\n",
       "       [0., 0., 1.],\n",
       "       [0., 0., 1.],\n",
       "       [0., 0., 1.],\n",
       "       [0., 0., 1.],\n",
       "       [0., 0., 1.],\n",
       "       [0., 0., 1.],\n",
       "       [0., 0., 1.],\n",
       "       [0., 0., 1.],\n",
       "       [0., 0., 1.],\n",
       "       [0., 0., 1.],\n",
       "       [0., 0., 1.],\n",
       "       [0., 0., 1.],\n",
       "       [0., 0., 1.],\n",
       "       [0., 0., 1.],\n",
       "       [0., 0., 1.],\n",
       "       [0., 0., 1.],\n",
       "       [0., 0., 1.],\n",
       "       [0., 0., 1.],\n",
       "       [0., 0., 1.],\n",
       "       [0., 0., 1.],\n",
       "       [0., 0., 1.],\n",
       "       [0., 0., 1.],\n",
       "       [0., 0., 1.],\n",
       "       [0., 0., 1.]], dtype=float32)"
      ]
     },
     "execution_count": 48,
     "metadata": {},
     "output_type": "execute_result"
    }
   ],
   "source": [
    "y"
   ]
  },
  {
   "cell_type": "code",
   "execution_count": 53,
   "metadata": {},
   "outputs": [],
   "source": [
    "from sklearn.model_selection import train_test_split\n",
    "\n",
    "X_train, X_test, y_train, y_test = train_test_split(X, y, test_size=0.33, random_state = 42)"
   ]
  },
  {
   "cell_type": "code",
   "execution_count": 59,
   "metadata": {},
   "outputs": [],
   "source": [
    "from sklearn.preprocessing import MinMaxScaler\n"
   ]
  },
  {
   "cell_type": "code",
   "execution_count": 61,
   "metadata": {},
   "outputs": [],
   "source": [
    "scalar_object = MinMaxScaler()"
   ]
  },
  {
   "cell_type": "code",
   "execution_count": 63,
   "metadata": {},
   "outputs": [
    {
     "data": {
      "text/plain": [
       "MinMaxScaler(copy=True, feature_range=(0, 1))"
      ]
     },
     "execution_count": 63,
     "metadata": {},
     "output_type": "execute_result"
    }
   ],
   "source": [
    "scalar_object.fit(X_train)"
   ]
  },
  {
   "cell_type": "code",
   "execution_count": 67,
   "metadata": {},
   "outputs": [],
   "source": [
    "X_train_scaled = scalar_object.transform(X_train)\n",
    "X_test_scaled = scalar_object.transform(X_test)"
   ]
  },
  {
   "cell_type": "code",
   "execution_count": 70,
   "metadata": {},
   "outputs": [
    {
     "data": {
      "text/plain": [
       "1.0"
      ]
     },
     "execution_count": 70,
     "metadata": {},
     "output_type": "execute_result"
    }
   ],
   "source": [
    "X_train_scaled.max()"
   ]
  },
  {
   "cell_type": "code",
   "execution_count": null,
   "metadata": {},
   "outputs": [],
   "source": []
  },
  {
   "cell_type": "code",
   "execution_count": 72,
   "metadata": {},
   "outputs": [],
   "source": [
    "from keras.models import Sequential\n",
    "from keras.layers import Dense"
   ]
  },
  {
   "cell_type": "code",
   "execution_count": 74,
   "metadata": {},
   "outputs": [],
   "source": [
    "model = Sequential()\n",
    "model.add(Dense(8, input_dim=4, activation='relu'))\n",
    "model.add(Dense(8, input_dim=4, activation='relu'))\n",
    "model.add(Dense(3, activation='softmax'))\n",
    "model.compile(loss='categorical_crossentropy', optimizer='adam', metrics=['accuracy'])"
   ]
  },
  {
   "cell_type": "code",
   "execution_count": 77,
   "metadata": {},
   "outputs": [
    {
     "name": "stdout",
     "output_type": "stream",
     "text": [
      "Model: \"sequential_2\"\n",
      "_________________________________________________________________\n",
      "Layer (type)                 Output Shape              Param #   \n",
      "=================================================================\n",
      "dense_4 (Dense)              (None, 8)                 40        \n",
      "_________________________________________________________________\n",
      "dense_5 (Dense)              (None, 8)                 72        \n",
      "_________________________________________________________________\n",
      "dense_6 (Dense)              (None, 3)                 27        \n",
      "=================================================================\n",
      "Total params: 139\n",
      "Trainable params: 139\n",
      "Non-trainable params: 0\n",
      "_________________________________________________________________\n"
     ]
    }
   ],
   "source": [
    "model.summary()"
   ]
  },
  {
   "cell_type": "code",
   "execution_count": 80,
   "metadata": {},
   "outputs": [
    {
     "name": "stdout",
     "output_type": "stream",
     "text": [
      "Epoch 1/150\n",
      " - 0s - loss: 0.4679 - accuracy: 0.9100\n",
      "Epoch 2/150\n",
      " - 0s - loss: 0.4658 - accuracy: 0.9100\n",
      "Epoch 3/150\n",
      " - 0s - loss: 0.4630 - accuracy: 0.9200\n",
      "Epoch 4/150\n",
      " - 0s - loss: 0.4598 - accuracy: 0.9200\n",
      "Epoch 5/150\n",
      " - 0s - loss: 0.4573 - accuracy: 0.9100\n",
      "Epoch 6/150\n",
      " - 0s - loss: 0.4539 - accuracy: 0.9000\n",
      "Epoch 7/150\n",
      " - 0s - loss: 0.4513 - accuracy: 0.9100\n",
      "Epoch 8/150\n",
      " - 0s - loss: 0.4488 - accuracy: 0.9100\n",
      "Epoch 9/150\n",
      " - 0s - loss: 0.4467 - accuracy: 0.9200\n",
      "Epoch 10/150\n",
      " - 0s - loss: 0.4451 - accuracy: 0.9200\n",
      "Epoch 11/150\n",
      " - 0s - loss: 0.4424 - accuracy: 0.9200\n",
      "Epoch 12/150\n",
      " - 0s - loss: 0.4398 - accuracy: 0.9200\n",
      "Epoch 13/150\n",
      " - 0s - loss: 0.4373 - accuracy: 0.9100\n",
      "Epoch 14/150\n",
      " - 0s - loss: 0.4344 - accuracy: 0.9100\n",
      "Epoch 15/150\n",
      " - 0s - loss: 0.4320 - accuracy: 0.9100\n",
      "Epoch 16/150\n",
      " - 0s - loss: 0.4297 - accuracy: 0.9100\n",
      "Epoch 17/150\n",
      " - 0s - loss: 0.4275 - accuracy: 0.9200\n",
      "Epoch 18/150\n",
      " - 0s - loss: 0.4246 - accuracy: 0.9100\n",
      "Epoch 19/150\n",
      " - 0s - loss: 0.4245 - accuracy: 0.8900\n",
      "Epoch 20/150\n",
      " - 0s - loss: 0.4218 - accuracy: 0.8500\n",
      "Epoch 21/150\n",
      " - 0s - loss: 0.4208 - accuracy: 0.8300\n",
      "Epoch 22/150\n",
      " - 0s - loss: 0.4193 - accuracy: 0.8200\n",
      "Epoch 23/150\n",
      " - 0s - loss: 0.4163 - accuracy: 0.8300\n",
      "Epoch 24/150\n",
      " - 0s - loss: 0.4132 - accuracy: 0.8800\n",
      "Epoch 25/150\n",
      " - 0s - loss: 0.4107 - accuracy: 0.8900\n",
      "Epoch 26/150\n",
      " - 0s - loss: 0.4082 - accuracy: 0.8900\n",
      "Epoch 27/150\n",
      " - 0s - loss: 0.4063 - accuracy: 0.9100\n",
      "Epoch 28/150\n",
      " - 0s - loss: 0.4037 - accuracy: 0.9200\n",
      "Epoch 29/150\n",
      " - 0s - loss: 0.4016 - accuracy: 0.9200\n",
      "Epoch 30/150\n",
      " - 0s - loss: 0.3997 - accuracy: 0.9100\n",
      "Epoch 31/150\n",
      " - 0s - loss: 0.3980 - accuracy: 0.9100\n",
      "Epoch 32/150\n",
      " - 0s - loss: 0.3961 - accuracy: 0.9000\n",
      "Epoch 33/150\n",
      " - 0s - loss: 0.3937 - accuracy: 0.9200\n",
      "Epoch 34/150\n",
      " - 0s - loss: 0.3916 - accuracy: 0.9300\n",
      "Epoch 35/150\n",
      " - 0s - loss: 0.3895 - accuracy: 0.9300\n",
      "Epoch 36/150\n",
      " - 0s - loss: 0.3880 - accuracy: 0.9400\n",
      "Epoch 37/150\n",
      " - 0s - loss: 0.3856 - accuracy: 0.9400\n",
      "Epoch 38/150\n",
      " - 0s - loss: 0.3835 - accuracy: 0.9400\n",
      "Epoch 39/150\n",
      " - 0s - loss: 0.3815 - accuracy: 0.9400\n",
      "Epoch 40/150\n",
      " - 0s - loss: 0.3802 - accuracy: 0.9400\n",
      "Epoch 41/150\n",
      " - 0s - loss: 0.3772 - accuracy: 0.9400\n",
      "Epoch 42/150\n",
      " - 0s - loss: 0.3750 - accuracy: 0.9300\n",
      "Epoch 43/150\n",
      " - 0s - loss: 0.3736 - accuracy: 0.9300\n",
      "Epoch 44/150\n",
      " - 0s - loss: 0.3716 - accuracy: 0.9300\n",
      "Epoch 45/150\n",
      " - 0s - loss: 0.3696 - accuracy: 0.9300\n",
      "Epoch 46/150\n",
      " - 0s - loss: 0.3674 - accuracy: 0.9300\n",
      "Epoch 47/150\n",
      " - 0s - loss: 0.3665 - accuracy: 0.9400\n",
      "Epoch 48/150\n",
      " - 0s - loss: 0.3640 - accuracy: 0.9400\n",
      "Epoch 49/150\n",
      " - 0s - loss: 0.3621 - accuracy: 0.9400\n",
      "Epoch 50/150\n",
      " - 0s - loss: 0.3614 - accuracy: 0.9300\n",
      "Epoch 51/150\n",
      " - 0s - loss: 0.3593 - accuracy: 0.9300\n",
      "Epoch 52/150\n",
      " - 0s - loss: 0.3577 - accuracy: 0.9300\n",
      "Epoch 53/150\n",
      " - 0s - loss: 0.3554 - accuracy: 0.9300\n",
      "Epoch 54/150\n",
      " - 0s - loss: 0.3543 - accuracy: 0.9300\n",
      "Epoch 55/150\n",
      " - 0s - loss: 0.3528 - accuracy: 0.9200\n",
      "Epoch 56/150\n",
      " - 0s - loss: 0.3514 - accuracy: 0.9200\n",
      "Epoch 57/150\n",
      " - 0s - loss: 0.3490 - accuracy: 0.9200\n",
      "Epoch 58/150\n",
      " - 0s - loss: 0.3462 - accuracy: 0.9300\n",
      "Epoch 59/150\n",
      " - 0s - loss: 0.3435 - accuracy: 0.9300\n",
      "Epoch 60/150\n",
      " - 0s - loss: 0.3411 - accuracy: 0.9300\n",
      "Epoch 61/150\n",
      " - 0s - loss: 0.3383 - accuracy: 0.9300\n",
      "Epoch 62/150\n",
      " - 0s - loss: 0.3367 - accuracy: 0.9500\n",
      "Epoch 63/150\n",
      " - 0s - loss: 0.3352 - accuracy: 0.9500\n",
      "Epoch 64/150\n",
      " - 0s - loss: 0.3330 - accuracy: 0.9500\n",
      "Epoch 65/150\n",
      " - 0s - loss: 0.3307 - accuracy: 0.9500\n",
      "Epoch 66/150\n",
      " - 0s - loss: 0.3286 - accuracy: 0.9400\n",
      "Epoch 67/150\n",
      " - 0s - loss: 0.3274 - accuracy: 0.9400\n",
      "Epoch 68/150\n",
      " - 0s - loss: 0.3265 - accuracy: 0.9300\n",
      "Epoch 69/150\n",
      " - 0s - loss: 0.3241 - accuracy: 0.9300\n",
      "Epoch 70/150\n",
      " - 0s - loss: 0.3218 - accuracy: 0.9400\n",
      "Epoch 71/150\n",
      " - 0s - loss: 0.3191 - accuracy: 0.9400\n",
      "Epoch 72/150\n",
      " - 0s - loss: 0.3168 - accuracy: 0.9400\n",
      "Epoch 73/150\n",
      " - 0s - loss: 0.3146 - accuracy: 0.9400\n",
      "Epoch 74/150\n",
      " - 0s - loss: 0.3127 - accuracy: 0.9500\n",
      "Epoch 75/150\n",
      " - 0s - loss: 0.3108 - accuracy: 0.9600\n",
      "Epoch 76/150\n",
      " - 0s - loss: 0.3094 - accuracy: 0.9500\n",
      "Epoch 77/150\n",
      " - 0s - loss: 0.3073 - accuracy: 0.9400\n",
      "Epoch 78/150\n",
      " - 0s - loss: 0.3057 - accuracy: 0.9400\n",
      "Epoch 79/150\n",
      " - 0s - loss: 0.3033 - accuracy: 0.9400\n",
      "Epoch 80/150\n",
      " - 0s - loss: 0.3017 - accuracy: 0.9500\n",
      "Epoch 81/150\n",
      " - 0s - loss: 0.2992 - accuracy: 0.9600\n",
      "Epoch 82/150\n",
      " - 0s - loss: 0.2972 - accuracy: 0.9600\n",
      "Epoch 83/150\n",
      " - 0s - loss: 0.2950 - accuracy: 0.9600\n",
      "Epoch 84/150\n",
      " - 0s - loss: 0.2944 - accuracy: 0.9600\n",
      "Epoch 85/150\n",
      " - 0s - loss: 0.2916 - accuracy: 0.9600\n",
      "Epoch 86/150\n",
      " - 0s - loss: 0.2896 - accuracy: 0.9600\n",
      "Epoch 87/150\n",
      " - 0s - loss: 0.2877 - accuracy: 0.9600\n",
      "Epoch 88/150\n",
      " - 0s - loss: 0.2860 - accuracy: 0.9600\n",
      "Epoch 89/150\n",
      " - 0s - loss: 0.2844 - accuracy: 0.9400\n",
      "Epoch 90/150\n",
      " - 0s - loss: 0.2830 - accuracy: 0.9400\n",
      "Epoch 91/150\n",
      " - 0s - loss: 0.2813 - accuracy: 0.9400\n",
      "Epoch 92/150\n",
      " - 0s - loss: 0.2787 - accuracy: 0.9500\n",
      "Epoch 93/150\n",
      " - 0s - loss: 0.2767 - accuracy: 0.9600\n",
      "Epoch 94/150\n",
      " - 0s - loss: 0.2748 - accuracy: 0.9700\n",
      "Epoch 95/150\n",
      " - 0s - loss: 0.2732 - accuracy: 0.9600\n",
      "Epoch 96/150\n",
      " - 0s - loss: 0.2709 - accuracy: 0.9600\n",
      "Epoch 97/150\n",
      " - 0s - loss: 0.2704 - accuracy: 0.9400\n",
      "Epoch 98/150\n",
      " - 0s - loss: 0.2707 - accuracy: 0.9400\n",
      "Epoch 99/150\n",
      " - 0s - loss: 0.2696 - accuracy: 0.9400\n",
      "Epoch 100/150\n",
      " - 0s - loss: 0.2658 - accuracy: 0.9400\n",
      "Epoch 101/150\n",
      " - 0s - loss: 0.2630 - accuracy: 0.9600\n",
      "Epoch 102/150\n",
      " - 0s - loss: 0.2603 - accuracy: 0.9700\n",
      "Epoch 103/150\n",
      " - 0s - loss: 0.2590 - accuracy: 0.9700\n",
      "Epoch 104/150\n",
      " - 0s - loss: 0.2572 - accuracy: 0.9700\n",
      "Epoch 105/150\n",
      " - 0s - loss: 0.2550 - accuracy: 0.9700\n",
      "Epoch 106/150\n",
      " - 0s - loss: 0.2534 - accuracy: 0.9700\n",
      "Epoch 107/150\n",
      " - 0s - loss: 0.2519 - accuracy: 0.9700\n",
      "Epoch 108/150\n",
      " - 0s - loss: 0.2503 - accuracy: 0.9700\n",
      "Epoch 109/150\n",
      " - 0s - loss: 0.2485 - accuracy: 0.9700\n",
      "Epoch 110/150\n",
      " - 0s - loss: 0.2473 - accuracy: 0.9700\n",
      "Epoch 111/150\n",
      " - 0s - loss: 0.2454 - accuracy: 0.9700\n",
      "Epoch 112/150\n",
      " - 0s - loss: 0.2430 - accuracy: 0.9700\n",
      "Epoch 113/150\n",
      " - 0s - loss: 0.2412 - accuracy: 0.9700\n",
      "Epoch 114/150\n",
      " - 0s - loss: 0.2399 - accuracy: 0.9700\n",
      "Epoch 115/150\n",
      " - 0s - loss: 0.2387 - accuracy: 0.9700\n",
      "Epoch 116/150\n",
      " - 0s - loss: 0.2367 - accuracy: 0.9700\n",
      "Epoch 117/150\n",
      " - 0s - loss: 0.2350 - accuracy: 0.9700\n",
      "Epoch 118/150\n",
      " - 0s - loss: 0.2334 - accuracy: 0.9700\n",
      "Epoch 119/150\n",
      " - 0s - loss: 0.2324 - accuracy: 0.9700\n",
      "Epoch 120/150\n",
      " - 0s - loss: 0.2307 - accuracy: 0.9600\n",
      "Epoch 121/150\n",
      " - 0s - loss: 0.2288 - accuracy: 0.9700\n",
      "Epoch 122/150\n",
      " - 0s - loss: 0.2268 - accuracy: 0.9700\n",
      "Epoch 123/150\n",
      " - 0s - loss: 0.2254 - accuracy: 0.9700\n",
      "Epoch 124/150\n",
      " - 0s - loss: 0.2239 - accuracy: 0.9700\n",
      "Epoch 125/150\n",
      " - 0s - loss: 0.2230 - accuracy: 0.9700\n",
      "Epoch 126/150\n",
      " - 0s - loss: 0.2218 - accuracy: 0.9700\n",
      "Epoch 127/150\n",
      " - 0s - loss: 0.2198 - accuracy: 0.9700\n",
      "Epoch 128/150\n",
      " - 0s - loss: 0.2181 - accuracy: 0.9700\n",
      "Epoch 129/150\n",
      " - 0s - loss: 0.2159 - accuracy: 0.9700\n",
      "Epoch 130/150\n",
      " - 0s - loss: 0.2151 - accuracy: 0.9700\n",
      "Epoch 131/150\n",
      " - 0s - loss: 0.2139 - accuracy: 0.9700\n",
      "Epoch 132/150\n",
      " - 0s - loss: 0.2134 - accuracy: 0.9600\n",
      "Epoch 133/150\n",
      " - 0s - loss: 0.2121 - accuracy: 0.9600\n",
      "Epoch 134/150\n",
      " - 0s - loss: 0.2093 - accuracy: 0.9700\n",
      "Epoch 135/150\n",
      " - 0s - loss: 0.2077 - accuracy: 0.9700\n",
      "Epoch 136/150\n",
      " - 0s - loss: 0.2066 - accuracy: 0.9700\n",
      "Epoch 137/150\n",
      " - 0s - loss: 0.2061 - accuracy: 0.9700\n",
      "Epoch 138/150\n",
      " - 0s - loss: 0.2041 - accuracy: 0.9700\n",
      "Epoch 139/150\n",
      " - 0s - loss: 0.2034 - accuracy: 0.9700\n",
      "Epoch 140/150\n",
      " - 0s - loss: 0.2011 - accuracy: 0.9700\n",
      "Epoch 141/150\n",
      " - 0s - loss: 0.1992 - accuracy: 0.9700\n",
      "Epoch 142/150\n",
      " - 0s - loss: 0.2005 - accuracy: 0.9600\n",
      "Epoch 143/150\n",
      " - 0s - loss: 0.2018 - accuracy: 0.9600\n",
      "Epoch 144/150\n",
      " - 0s - loss: 0.2010 - accuracy: 0.9600\n",
      "Epoch 145/150\n",
      " - 0s - loss: 0.1978 - accuracy: 0.9600\n",
      "Epoch 146/150\n",
      " - 0s - loss: 0.1939 - accuracy: 0.9600\n",
      "Epoch 147/150\n",
      " - 0s - loss: 0.1922 - accuracy: 0.9700\n",
      "Epoch 148/150\n",
      " - 0s - loss: 0.1933 - accuracy: 0.9700\n",
      "Epoch 149/150\n",
      " - 0s - loss: 0.1922 - accuracy: 0.9700\n",
      "Epoch 150/150\n",
      " - 0s - loss: 0.1902 - accuracy: 0.9700\n"
     ]
    },
    {
     "data": {
      "text/plain": [
       "<keras.callbacks.callbacks.History at 0x7ffd57780610>"
      ]
     },
     "execution_count": 80,
     "metadata": {},
     "output_type": "execute_result"
    }
   ],
   "source": [
    "model.fit(X_train_scaled,y_train,epochs=150, verbose=2)"
   ]
  },
  {
   "cell_type": "code",
   "execution_count": 84,
   "metadata": {},
   "outputs": [],
   "source": [
    "predictions = model.predict_classes(X_test_scaled)"
   ]
  },
  {
   "cell_type": "code",
   "execution_count": 85,
   "metadata": {},
   "outputs": [],
   "source": [
    "from sklearn.metrics import classification_report, accuracy_score\n"
   ]
  },
  {
   "cell_type": "code",
   "execution_count": 87,
   "metadata": {},
   "outputs": [
    {
     "data": {
      "text/plain": [
       "array([1, 0, 2, 1, 1, 0, 1, 2, 1, 1, 2, 0, 0, 0, 0, 1, 2, 1, 1, 2, 0, 2,\n",
       "       0, 2, 2, 2, 2, 2, 0, 0, 0, 0, 1, 0, 0, 2, 1, 0, 0, 0, 2, 1, 1, 0,\n",
       "       0, 1, 2, 2, 1, 2])"
      ]
     },
     "execution_count": 87,
     "metadata": {},
     "output_type": "execute_result"
    }
   ],
   "source": [
    "y_test.argmax(axis=1)"
   ]
  },
  {
   "cell_type": "code",
   "execution_count": 88,
   "metadata": {},
   "outputs": [
    {
     "data": {
      "text/plain": [
       "0.96"
      ]
     },
     "execution_count": 88,
     "metadata": {},
     "output_type": "execute_result"
    }
   ],
   "source": [
    "accuracy_score(y_test.argmax(axis=1), predictions)"
   ]
  }
 ],
 "metadata": {
  "kernelspec": {
   "display_name": "Python 3",
   "language": "python",
   "name": "python3"
  },
  "language_info": {
   "codemirror_mode": {
    "name": "ipython",
    "version": 3
   },
   "file_extension": ".py",
   "mimetype": "text/x-python",
   "name": "python",
   "nbconvert_exporter": "python",
   "pygments_lexer": "ipython3",
   "version": "3.7.6"
  }
 },
 "nbformat": 4,
 "nbformat_minor": 4
}
