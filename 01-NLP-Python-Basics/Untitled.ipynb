{
 "cells": [
  {
   "cell_type": "code",
   "execution_count": 14,
   "metadata": {},
   "outputs": [],
   "source": [
    "import spacy"
   ]
  },
  {
   "cell_type": "code",
   "execution_count": 20,
   "metadata": {},
   "outputs": [
    {
     "data": {
      "text/plain": [
       "'/Users/ansumansingh/Desktop/UPDATED_NLP_COURSE/01-NLP-Python-Basics'"
      ]
     },
     "execution_count": 20,
     "metadata": {},
     "output_type": "execute_result"
    }
   ],
   "source": [
    "import os\n",
    "os.getcwd()"
   ]
  },
  {
   "cell_type": "code",
   "execution_count": 21,
   "metadata": {},
   "outputs": [],
   "source": [
    "quotes_json = open('/Users/ansumansingh/test_quotes.json')"
   ]
  },
  {
   "cell_type": "code",
   "execution_count": 24,
   "metadata": {},
   "outputs": [
    {
     "name": "stdout",
     "output_type": "stream",
     "text": [
      "17389\n"
     ]
    }
   ],
   "source": [
    "quotes_json.seek(0)\n",
    "print(len(quotes_json.read()))"
   ]
  },
  {
   "cell_type": "code",
   "execution_count": null,
   "metadata": {},
   "outputs": [],
   "source": []
  },
  {
   "cell_type": "code",
   "execution_count": null,
   "metadata": {},
   "outputs": [],
   "source": []
  },
  {
   "cell_type": "code",
   "execution_count": null,
   "metadata": {},
   "outputs": [],
   "source": []
  },
  {
   "cell_type": "code",
   "execution_count": 3,
   "metadata": {},
   "outputs": [],
   "source": [
    "spacy_nlp_model = spacy.load('en')"
   ]
  },
  {
   "cell_type": "code",
   "execution_count": 5,
   "metadata": {},
   "outputs": [],
   "source": [
    "doc = spacy_nlp_model('NEW YORK: When the Soviet Union put the first man into space in 1961,\\\n",
    "the shock to America\\'s self-confidence was electric. If China should be first to produce a successful vaccine \\\n",
    "against the coronavirus')"
   ]
  },
  {
   "cell_type": "code",
   "execution_count": 12,
   "metadata": {},
   "outputs": [
    {
     "name": "stdout",
     "output_type": "stream",
     "text": [
      "NEW YORK:\n",
      "When the Soviet Union put the first man into space in 1961,the shock to America's self-confidence was electric.\n",
      "If China should be first to produce a successful vaccine against the coronaviru\n"
     ]
    }
   ],
   "source": [
    "for sent in doc.sents:\n",
    "    print(sent)"
   ]
  },
  {
   "cell_type": "code",
   "execution_count": null,
   "metadata": {},
   "outputs": [],
   "source": [
    "text = 'At least 16 migrant labourers, hailing from Madhya Pradesh, who were sleeping on rail tracks were crushed to death after a freight train ran over them on a track between Jalna and Aurangabad districts, nearly 260 km from Pune.\n",
    "According to local police authorities, one other was seriously injured while three more escaped in the gruesome accident, which occurred under the jurisdiction of Karmad police station in Aurangabad.\n",
    "\n",
    "“At around 5:15 a.m., a freight train ran over some labourers in a rail track near Karmad, killing 16 of them. One of them is injured and we are councilling three others who fortunately escaped the tragedy to understand what exactly transpired,” said Mokshada Patil, Superintendent of Police (Aurangabad Rural).\n",
    "\n",
    "Disturbing scenes were witnessed in Karmad as police authorities and rescue teams were seen collecting parts of the mutilated bodies of the deceased labourers, which lay strewn along the bloodied railway tracks.\n",
    "\n",
    "The migrants aged between 20 and 35 years, were labourers from Umarya and Shahdol (in Madhya Pradesh) and worked at SRG Company in Jalna, Maharashtra.'"
   ]
  },
  {
   "cell_type": "code",
   "execution_count": null,
   "metadata": {},
   "outputs": [],
   "source": []
  },
  {
   "cell_type": "code",
   "execution_count": null,
   "metadata": {},
   "outputs": [],
   "source": []
  },
  {
   "cell_type": "code",
   "execution_count": null,
   "metadata": {},
   "outputs": [],
   "source": []
  },
  {
   "cell_type": "code",
   "execution_count": null,
   "metadata": {},
   "outputs": [],
   "source": []
  },
  {
   "cell_type": "code",
   "execution_count": null,
   "metadata": {},
   "outputs": [],
   "source": []
  },
  {
   "cell_type": "code",
   "execution_count": null,
   "metadata": {},
   "outputs": [],
   "source": []
  }
 ],
 "metadata": {
  "kernelspec": {
   "display_name": "Python 3",
   "language": "python",
   "name": "python3"
  },
  "language_info": {
   "codemirror_mode": {
    "name": "ipython",
    "version": 3
   },
   "file_extension": ".py",
   "mimetype": "text/x-python",
   "name": "python",
   "nbconvert_exporter": "python",
   "pygments_lexer": "ipython3",
   "version": "3.7.6"
  }
 },
 "nbformat": 4,
 "nbformat_minor": 4
}
