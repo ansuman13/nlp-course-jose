{
 "cells": [
  {
   "cell_type": "code",
   "execution_count": 44,
   "metadata": {},
   "outputs": [],
   "source": [
    "import spacy\n",
    "nlp = spacy.load('en')\n"
   ]
  },
  {
   "cell_type": "code",
   "execution_count": 45,
   "metadata": {},
   "outputs": [],
   "source": [
    "with open('rupi_kaur.txt') as f:\n",
    "    doc = nlp(f.read())"
   ]
  },
  {
   "cell_type": "code",
   "execution_count": 46,
   "metadata": {},
   "outputs": [
    {
     "name": "stdout",
     "output_type": "stream",
     "text": [
      "“apparently it is ungraceful of me\n",
      "to mention my period in public\n",
      "cause the actual biology\n",
      "of my body is too real\n",
      "\n",
      "it is okay to sell what's\n",
      "between a woman's legs\n",
      "more than it is okay to\n",
      "mention its inner workings\n",
      "\n",
      "the recreational use of\n",
      "this body is seen as\n",
      "beautiful while\n",
      "its nature is\n",
      "seen as ugly”\n"
     ]
    }
   ],
   "source": [
    "with open('rupi_kaur.txt', 'w+') as f:\n",
    "    f.write('“apparently it is ungraceful of me\\nto mention my period in public\\ncause the actual biology\\nof my body is too real\\n\\nit is okay to sell what\\'s\\nbetween a woman\\'s legs\\nmore than it is okay to\\nmention its inner workings\\n\\nthe recreational use of\\nthis body is seen as\\nbeautiful while\\nits nature is\\nseen as ugly”')\n",
    "    f.seek(0)\n",
    "    print(f.read())"
   ]
  },
  {
   "cell_type": "code",
   "execution_count": 64,
   "metadata": {},
   "outputs": [],
   "source": [
    "with open('rupi_kaur.txt', 'a+') as f:\n",
    "    f.write('\\n\\n“you cannot leave\\nand have me too\\ni cannot exist in\\ntwo places at once\\n\\n-when you ask if we can still be friends” ')\n",
    "    f.seek(0)\n",
    "    doc = nlp(f.read())        "
   ]
  },
  {
   "cell_type": "code",
   "execution_count": null,
   "metadata": {},
   "outputs": [],
   "source": [
    "def set_poem_fragments(doc):\n",
    "    for index,token in enumerate(doc):\n",
    "        if token.text=='\"':\n",
    "            doc[token.i+1].is_sent_start=True\n",
    "    return doc\n",
    "                \n",
    "            \n",
    "            \n",
    "            "
   ]
  },
  {
   "cell_type": "code",
   "execution_count": 66,
   "metadata": {},
   "outputs": [
    {
     "data": {
      "text/plain": [
       "“apparently it is ungraceful of me\n",
       "to mention my period in public\n",
       "cause the actual biology\n",
       "of my body is too real\n",
       "\n",
       "it is okay to sell what's\n",
       "between a woman's legs\n",
       "more than it is okay to\n",
       "mention its inner workings\n",
       "\n",
       "the recreational use of\n",
       "this body is seen as\n",
       "beautiful while\n",
       "its nature is\n",
       "seen as ugly”\n",
       "\n",
       "“you cannot leave\n",
       "and have me too\n",
       "i cannot exist in\n",
       "two places at once\n",
       "\n",
       "-when you ask if we can still be friends” \n",
       "\n",
       "“you cannot leave\n",
       "and have me too\n",
       "i cannot exist in\n",
       "two places at once\n",
       "\n",
       "-when you ask if we can still be friends” \n",
       "\n",
       "“you cannot leave\n",
       "and have me too\n",
       "i cannot exist in\n",
       "two places at once\n",
       "\n",
       "-when you ask if we can still be friends” \n",
       "\n",
       "“you cannot leave\n",
       "and have me too\n",
       "i cannot exist in\n",
       "two places at once\n",
       "\n",
       "-when you ask if we can still be friends” \n",
       "\n",
       "“you cannot leave\n",
       "and have me too\n",
       "i cannot exist in\n",
       "two places at once\n",
       "\n",
       "-when you ask if we can still be friends” "
      ]
     },
     "execution_count": 66,
     "metadata": {},
     "output_type": "execute_result"
    }
   ],
   "source": [
    "doc"
   ]
  },
  {
   "cell_type": "code",
   "execution_count": null,
   "metadata": {},
   "outputs": [],
   "source": []
  }
 ],
 "metadata": {
  "kernelspec": {
   "display_name": "Python 3",
   "language": "python",
   "name": "python3"
  },
  "language_info": {
   "codemirror_mode": {
    "name": "ipython",
    "version": 3
   },
   "file_extension": ".py",
   "mimetype": "text/x-python",
   "name": "python",
   "nbconvert_exporter": "python",
   "pygments_lexer": "ipython3",
   "version": "3.7.6"
  }
 },
 "nbformat": 4,
 "nbformat_minor": 4
}
